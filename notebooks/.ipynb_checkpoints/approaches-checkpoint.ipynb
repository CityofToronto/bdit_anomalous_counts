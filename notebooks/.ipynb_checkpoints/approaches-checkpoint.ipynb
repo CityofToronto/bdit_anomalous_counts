{
 "cells": [
  {
   "cell_type": "markdown",
   "metadata": {},
   "source": [
    "## Possible Approaches to Miovision Anomaly Detection\n",
    "*** \n"
   ]
  },
  {
   "cell_type": "markdown",
   "metadata": {},
   "source": [
    "### 1. Simple confidence interval rejection\n",
    "\n",
    "\n",
    "For any given intersection, we separate data, by leg and direction, daytype, and vehicle classifcation. Daytype is segmented into two groups, 'monday, tuesday, wednesday' and 'thursday, friday'. Vehicle class is separated into Vehicles, Bikes, and Peds. \n",
    "\n",
    "<br>\n",
    "For each combination of the above classifiers, we do the following:\n",
    "\n",
    "<br>\n",
    "* Find the mean 24 hour volume values across all days in our daytype\n",
    "* Similarly, find the standard deviation\n",
    "* Multiply standard deviaiton values by 1.96 (95% confidence critical value for standard normal distribution)\n",
    "* Add these values to the mean to produce an upper bound, subtract these values from the mean to produce a lower bound\n",
    "\n",
    "<br>\n",
    "Here is a simple example of this process for Adelaide and Bathurst\n",
    "![image.png](notebooks/images/notebookimage.png)\n",
    "\n",
    "\n",
    "\n",
    "\n",
    "\n",
    " <br>\n",
    "A script can be developed that sets confidence regions for datapoints according to their attributes, and proceeds to accept and reject them accordingly. Rejected datapoints should be further investigated. \n",
    " "
   ]
  },
  {
   "cell_type": "markdown",
   "metadata": {},
   "source": [
    "### 2. STL Decomposition filtering \n",
    "\n",
    "<br>\n",
    "Here is a plot of Volume counts averaged from Monday to Wednesday across 24 hrs. \n",
    "![image.png](notebooks/images/seasonal.png)\n",
    "<br> \n",
    "The data is seasonal accross 96 units of time (i.e. 24 hrs, 15 min time bins, therefore 4 bins in one hour * 24 hours = 96)\n"
   ]
  },
  {
   "cell_type": "markdown",
   "metadata": {},
   "source": [
    "Using some simple time series analysis, we can get the seasonal component and trend component. If we remove these two components, we get the following graph of remainders\n",
    "![image.png](notebooks/images/remainder.png)\n",
    "<br>\n"
   ]
  },
  {
   "cell_type": "markdown",
   "metadata": {},
   "source": [
    "By decomposing the time series, we have removed the seasonal and trend features inherent in the data. What's left is mostly random varation. As a result, we can better detect outliers through this random/remainder component. \n",
    "\n",
    "<br>\n",
    "The steps are as follows:\n",
    "* For each Intersection, leg, and direction combination, segment the days into two different seasonal time series- MWT and ThF. \n",
    "* Use STL composition to decompose the data\n",
    "* Use an iterative Generalized ESD test to test for outliers in each time series. (Note, ESD requires a normality assumption- but since we are working with the remainder component of time series data, this assumption checks out\n",
    "* Append the outliers to a list to be investigated"
   ]
  },
  {
   "cell_type": "markdown",
   "metadata": {
    "collapsed": true
   },
   "source": [
    "### 3. Anomaly Detection Via Forecasting\n",
    "\n",
    "We treat each weekday as having the same distribution. Using R, we feed 24 hr data of various weekdays into a `ts` dataframe, with a frequency of 96 because our data has a period length of 96 bins. \n",
    "\n",
    "<br>\n",
    "Before we forecast, we go one of two routes:\n",
    "\n",
    " 1. Model the series using ARIMA\n",
    " 2. Leave the series as is an use R's built in `forecast` function\n",
    "\n",
    "\n",
    "<br> \n",
    "We forecast one day's worth of data. An example can be seen below: \n",
    "![image.png](notebooks/images/Rplot01.png)\n",
    "\n",
    "<br>\n",
    "We calculate a prediction error for each datapoint, say $|\\hat y - y|$. We setup a threshhold value, say $3\\sigma$. If $|\\hat y - y|$ > $3\\sigma$, we consider the point an outlier. \n",
    "\n",
    "\n",
    "\n",
    "\n",
    "\n"
   ]
  },
  {
   "cell_type": "code",
   "execution_count": null,
   "metadata": {
    "collapsed": true
   },
   "outputs": [],
   "source": []
  }
 ],
 "metadata": {
  "kernelspec": {
   "display_name": "Python 3",
   "language": "python",
   "name": "python3"
  },
  "language_info": {
   "codemirror_mode": {
    "name": "ipython",
    "version": 3
   },
   "file_extension": ".py",
   "mimetype": "text/x-python",
   "name": "python",
   "nbconvert_exporter": "python",
   "pygments_lexer": "ipython3",
   "version": "3.6.3"
  }
 },
 "nbformat": 4,
 "nbformat_minor": 2
}
