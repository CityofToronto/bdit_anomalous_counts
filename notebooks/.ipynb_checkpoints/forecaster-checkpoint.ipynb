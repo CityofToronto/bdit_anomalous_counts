{
 "cells": [
  {
   "cell_type": "code",
   "execution_count": 1,
   "metadata": {},
   "outputs": [
    {
     "name": "stderr",
     "output_type": "stream",
     "text": [
      "C:\\Users\\alouis2\\AppData\\Local\\Continuum\\anaconda3\\lib\\site-packages\\IPython\\core\\interactiveshell.py:2862: FutureWarning: \n",
      "mpl_style had been deprecated and will be removed in a future version.\n",
      "Use `matplotlib.pyplot.style.use` instead.\n",
      "\n",
      "  exec(code_obj, self.user_global_ns, self.user_ns)\n"
     ]
    }
   ],
   "source": [
    "%load_ext rpy2.ipython\n",
    "import pandas as pd\n",
    "import configparser\n",
    "from psycopg2 import connect\n",
    "import psycopg2.sql as pg\n",
    "import pandas.io.sql as pandasql\n",
    "from sqlalchemy import create_engine\n",
    "import io\n",
    "import datetime \n",
    "import numpy \n",
    "from rpy2.robjects.packages import importr\n",
    "utils = importr('utils')\n",
    "utils.install_packages('forecast')\n",
    "\n",
    "CONFIG = configparser.ConfigParser()\n",
    "CONFIG.read(r'C:\\Users\\alouis2\\Documents\\Python Scripts\\db.cfg')\n",
    "dbset = CONFIG['DBSETTINGS']\n",
    "con = connect(**dbset)\n",
    "pd.options.display.mpl_style = 'default'\n"
   ]
  },
  {
   "cell_type": "markdown",
   "metadata": {},
   "source": [
    "`forecast` computes a one day forecast given a day, intersection, direction, and intersection leg. The function works through R's auto-arima fitting, and then forecasts the next 56 points (i.e. 4 * 14). A plot is returned of the forecast. The forecast has 80% and 95% percentile upper and lower bounds. These bounds will be used to detect anomalous 15 minute counts. A few examples of the function can be seen below. "
   ]
  },
  {
   "cell_type": "code",
   "execution_count": 28,
   "metadata": {
    "collapsed": true
   },
   "outputs": [],
   "source": [
    "def forecast(day, intersection, direction, int_leg):\n",
    "    days = ['Monday', 'Tuesday', 'Wednesday', 'Thursday', 'Friday']\n",
    "    for i in days:\n",
    "        if i == day:\n",
    "            day = days.index(i) + 1\n",
    "    strSQL = '''WITH ts AS (SELECT datetime_bin, sum(volume) as volume\n",
    "                FROM miovision.volumes_15min\n",
    "            INNER JOIN miovision.intersections USING (intersection_uid)\n",
    "            WHERE classification_uid in (1,4,5)\n",
    "            AND intersection_name = '%s'\n",
    "            AND (leg = '%s' AND dir = '%s')\n",
    "            AND extract(dow from datetime_bin) in (%s)\n",
    "            and extract('hour' from datetime_bin) >= 6\n",
    "            and extract('hour' from datetime_bin) < 20\n",
    "            GROUP BY datetime_bin\n",
    "            ORDER BY datetime_bin),\n",
    "            \n",
    "            proper AS (SELECT datetime_bin::date, COUNT(volume)\n",
    "            from ts\n",
    "            group by datetime_bin::date\n",
    "            having count(volume) = 56)\n",
    "            \n",
    "            select * from ts\n",
    "            where datetime_bin::date in (select datetime_bin from proper)''' % (intersection, int_leg, direction, day)\n",
    "    data = pandasql.read_sql(pg.SQL(strSQL), con)\n",
    "    % R  library('forecast')\n",
    "    % R -i data\n",
    "    % R x <- ts(data$volume, frequency = 56)\n",
    "    % R fit <- auto.arima(x) # automated arima modelling of data\n",
    "    % R nextday <- forecast(fit, h = 56)\n",
    "    % R plot(nextday)\n",
    "    % R nextday\n"
   ]
  },
  {
   "cell_type": "code",
   "execution_count": 30,
   "metadata": {},
   "outputs": [
    {
     "data": {
      "image/png": "[encoded data removed]"
     },
     "metadata": {},
     "output_type": "display_data"
    }
   ],
   "source": [
    "forecast(\"Thursday\", \"Front / Spadina\", \"EB\", \"E\")"
   ]
  },
  {
   "cell_type": "code",
   "execution_count": 32,
   "metadata": {},
   "outputs": [
    {
     "data": {
      "image/png": "[encoded data removed]"
     },
     "metadata": {},
     "output_type": "display_data"
    }
   ],
   "source": [
    "forecast(\"Monday\", \"Queen / Jarvis\", \"WB\", \"E\")"
   ]
  },
  {
   "cell_type": "code",
   "execution_count": 34,
   "metadata": {},
   "outputs": [
    {
     "data": {
      "image/png": "[encoded data removed]"
     },
     "metadata": {},
     "output_type": "display_data"
    }
   ],
   "source": [
    "forecast(\"Friday\", \"Adelaide / Spadina\", \"EB\", \"E\")"
   ]
  }
 ],
 "metadata": {
  "kernelspec": {
   "display_name": "Python 3",
   "language": "python",
   "name": "python3"
  },
  "language_info": {
   "codemirror_mode": {
    "name": "ipython",
    "version": 3
   },
   "file_extension": ".py",
   "mimetype": "text/x-python",
   "name": "python",
   "nbconvert_exporter": "python",
   "pygments_lexer": "ipython3",
   "version": "3.6.3"
  }
 },
 "nbformat": 4,
 "nbformat_minor": 2
}
