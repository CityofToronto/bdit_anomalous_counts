{
 "cells": [
  {
   "cell_type": "code",
   "execution_count": 1,
   "metadata": {},
   "outputs": [
    {
     "name": "stderr",
     "output_type": "stream",
     "text": [
      "C:\\Users\\alouis2\\AppData\\Local\\Continuum\\anaconda3\\lib\\site-packages\\IPython\\core\\interactiveshell.py:2862: FutureWarning: \n",
      "mpl_style had been deprecated and will be removed in a future version.\n",
      "Use `matplotlib.pyplot.style.use` instead.\n",
      "\n",
      "  exec(code_obj, self.user_global_ns, self.user_ns)\n"
     ]
    }
   ],
   "source": [
    "%load_ext rpy2.ipython\n",
    "import pandas as pd\n",
    "import configparser\n",
    "from psycopg2 import connect\n",
    "import psycopg2.sql as pg\n",
    "import pandas.io.sql as pandasql\n",
    "from sqlalchemy import create_engine\n",
    "import io\n",
    "import datetime \n",
    "import numpy \n",
    "from rpy2.robjects.packages import importr\n",
    "utils = importr('utils')\n",
    "utils.install_packages('forecast')\n",
    "\n",
    "CONFIG = configparser.ConfigParser()\n",
    "CONFIG.read(r'C:\\Users\\alouis2\\Documents\\Python Scripts\\db.cfg')\n",
    "dbset = CONFIG['DBSETTINGS']\n",
    "con = connect(**dbset)\n",
    "pd.options.display.mpl_style = 'default'\n"
   ]
  },
  {
   "cell_type": "markdown",
   "metadata": {},
   "source": [
    "## The Forecast Function\n",
    "***\n",
    "\n",
    "`forecast` computes a one day forecast given a day, intersection, direction, and intersection leg. The function works through R's auto-arima fitting, and then forecasts the next 56 points (i.e. 4 * 14). A plot is returned of the forecast. The forecast has 80% and 95% percentile upper and lower bounds. These bounds will be used to detect anomalous 15 minute counts. A few examples of the function can be seen below. "
   ]
  },
  {
   "cell_type": "code",
   "execution_count": 97,
   "metadata": {},
   "outputs": [],
   "source": [
    "def grab(day, intersection, direction, int_leg):\n",
    "    days = ['Monday', 'Tuesday', 'Wednesday', 'Thursday', 'Friday']\n",
    "    for i in days:\n",
    "        if i == day:\n",
    "            day = days.index(i) + 1\n",
    "    strSQL = '''WITH ts AS (SELECT datetime_bin, sum(volume) as volume\n",
    "                FROM miovision.volumes_15min\n",
    "            INNER JOIN miovision.intersections USING (intersection_uid)\n",
    "            WHERE classification_uid in (1,4,5)\n",
    "            AND intersection_name = '%s'\n",
    "            AND (leg = '%s' AND dir = '%s')\n",
    "            AND extract(dow from datetime_bin) in (%s)\n",
    "            and extract('hour' from datetime_bin) >= 6\n",
    "            and extract('hour' from datetime_bin) < 20\n",
    "            GROUP BY datetime_bin\n",
    "            ORDER BY datetime_bin),\n",
    "            \n",
    "            proper AS (SELECT datetime_bin::date, COUNT(volume)\n",
    "            from ts\n",
    "            group by datetime_bin::date\n",
    "            having count(volume) = 56)\n",
    "            \n",
    "            select * from ts\n",
    "            where datetime_bin::date in (select datetime_bin from proper)''' % (intersection, int_leg, direction, day)\n",
    "    return pandasql.read_sql(pg.SQL(strSQL), con)\n",
    "    \n",
    "\n",
    "def forecast(day, intersection, direction, int_leg):\n",
    "    data = grab(day, intersection, direction, int_leg)\n",
    "    % R  library('forecast')\n",
    "    %R -i data\n",
    "    % R x <- ts(data$volume, frequency = 56)\n",
    "    % R fit <- auto.arima(x) # automated arima modelling of data\n",
    "    % R nextday <- data.frame(forecast(fit, h = 56))\n",
    "    %R -o nextday\n",
    "    return pd.DataFrame(nextday)"
   ]
  },
  {
   "cell_type": "markdown",
   "metadata": {},
   "source": [
    "#### **Thursday Front and Spadina Forecast (Eastbound, East leg)**"
   ]
  },
  {
   "cell_type": "code",
   "execution_count": 3,
   "metadata": {},
   "outputs": [
    {
     "data": {
      "image/png": "[encoded data removed]"
     },
     "metadata": {},
     "output_type": "display_data"
    }
   ],
   "source": [
    "forecast(\"Thursday\", \"Front / Spadina\", \"EB\", \"E\")"
   ]
  },
  {
   "cell_type": "markdown",
   "metadata": {},
   "source": [
    "#### **Monday Queen and Jarvis Forecast (Westbound, East leg)**"
   ]
  },
  {
   "cell_type": "code",
   "execution_count": 4,
   "metadata": {},
   "outputs": [
    {
     "data": {
      "image/png": "[encoded data removed]"
     },
     "metadata": {},
     "output_type": "display_data"
    }
   ],
   "source": [
    "forecast(\"Monday\", \"Queen / Jarvis\", \"WB\", \"E\")"
   ]
  },
  {
   "cell_type": "code",
   "execution_count": 99,
   "metadata": {
    "scrolled": true
   },
   "outputs": [],
   "source": [
    "upper95 = forecast(\"Friday\", \"Adelaide / Spadina\", \"EB\", \"E\")['Hi.95']\n",
    "lower95 = forecast(\"Friday\", \"Adelaide / Spadina\", \"EB\", \"E\")['Lo.95']\n",
    "upper80 = forecast(\"Friday\", \"Adelaide / Spadina\", \"EB\", \"E\")['Hi.80']\n",
    "lower80 = forecast(\"Friday\", \"Adelaide / Spadina\", \"EB\", \"E\")['Lo.80']\n"
   ]
  },
  {
   "cell_type": "code",
   "execution_count": 121,
   "metadata": {},
   "outputs": [
    {
     "data": {
      "text/plain": [
       "0     254.152422\n",
       "1     249.991175\n",
       "2     276.400892\n",
       "3     276.632913\n",
       "4     283.748222\n",
       "5     289.667915\n",
       "6     301.346886\n",
       "7     304.323907\n",
       "8     320.927347\n",
       "9     320.521713\n",
       "10    297.683010\n",
       "11    319.029149\n",
       "12    310.597235\n",
       "13    311.447609\n",
       "14    290.373672\n",
       "15    286.785026\n",
       "16    303.137809\n",
       "17    296.582333\n",
       "18    292.838795\n",
       "19    277.485292\n",
       "20    281.624587\n",
       "21    276.574898\n",
       "22    278.953234\n",
       "23    295.707327\n",
       "24    279.789081\n",
       "25    294.198004\n",
       "26    279.200685\n",
       "27    280.709643\n",
       "28    273.318068\n",
       "29    270.823650\n",
       "30    287.478567\n",
       "31    288.800305\n",
       "32    273.803542\n",
       "33    264.228003\n",
       "34    278.992379\n",
       "35    278.689564\n",
       "36    269.824206\n",
       "37    280.764445\n",
       "38    288.281161\n",
       "39    290.069770\n",
       "40    285.518701\n",
       "41    295.180349\n",
       "42    299.722229\n",
       "43    310.909151\n",
       "44    302.030506\n",
       "45    287.454990\n",
       "46    289.598642\n",
       "47    295.089885\n",
       "48    288.001677\n",
       "49    279.140672\n",
       "50    286.352166\n",
       "51    304.345445\n",
       "52    295.014786\n",
       "53    305.519967\n",
       "54    295.831223\n",
       "55    299.497138\n",
       "Name: Hi.95, dtype: float64"
      ]
     },
     "execution_count": 121,
     "metadata": {},
     "output_type": "execute_result"
    }
   ],
   "source": [
    "pd.DataFrame(upper95).reset_index()['Hi.95']"
   ]
  },
  {
   "cell_type": "code",
   "execution_count": null,
   "metadata": {
    "collapsed": true
   },
   "outputs": [],
   "source": []
  }
 ],
 "metadata": {
  "kernelspec": {
   "display_name": "Python 3",
   "language": "python",
   "name": "python3"
  },
  "language_info": {
   "codemirror_mode": {
    "name": "ipython",
    "version": 3
   },
   "file_extension": ".py",
   "mimetype": "text/x-python",
   "name": "python",
   "nbconvert_exporter": "python",
   "pygments_lexer": "ipython3",
   "version": "3.6.3"
  }
 },
 "nbformat": 4,
 "nbformat_minor": 2
}
