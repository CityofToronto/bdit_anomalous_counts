{
 "cells": [
  {
   "cell_type": "code",
   "execution_count": 7,
   "metadata": {},
   "outputs": [
    {
     "name": "stdout",
     "output_type": "stream",
     "text": [
      "The rpy2.ipython extension is already loaded. To reload it, use:\n",
      "  %reload_ext rpy2.ipython\n"
     ]
    },
    {
     "name": "stderr",
     "output_type": "stream",
     "text": [
      "C:\\Users\\alouis2\\AppData\\Local\\Continuum\\anaconda3\\lib\\site-packages\\IPython\\core\\interactiveshell.py:2862: FutureWarning: \n",
      "mpl_style had been deprecated and will be removed in a future version.\n",
      "Use `matplotlib.pyplot.style.use` instead.\n",
      "\n",
      "  exec(code_obj, self.user_global_ns, self.user_ns)\n"
     ]
    }
   ],
   "source": [
    "%load_ext rpy2.ipython\n",
    "import pandas as pd\n",
    "import configparser\n",
    "from psycopg2 import connect\n",
    "import psycopg2.sql as pg\n",
    "import pandas.io.sql as pandasql\n",
    "from sqlalchemy import create_engine\n",
    "import io\n",
    "import datetime \n",
    "import numpy \n",
    "\n",
    "CONFIG = configparser.ConfigParser()\n",
    "CONFIG.read(r'C:\\Users\\alouis2\\Documents\\Python Scripts\\db.cfg')\n",
    "dbset = CONFIG['DBSETTINGS']\n",
    "con = connect(**dbset)\n",
    "pd.options.display.mpl_style = 'default'\n"
   ]
  },
  {
   "cell_type": "code",
   "execution_count": 30,
   "metadata": {},
   "outputs": [],
   "source": [
    "def grab(day, intersection, direction, int_leg):\n",
    "    strSQL = '''WITH ts AS (SELECT datetime_bin, sum(volume) as volume\n",
    "                FROM miovision.volumes_15min\n",
    "            WHERE classification_uid in (1,4,5)\n",
    "            AND intersection_uid = %s\n",
    "            AND (leg = '%s' AND dir = '%s')\n",
    "            AND extract(dow from datetime_bin) in (%s)\n",
    "            and extract('hour' from datetime_bin) >= 6\n",
    "            and extract('hour' from datetime_bin) < 20\n",
    "            GROUP BY datetime_bin\n",
    "            ORDER BY datetime_bin),\n",
    "            \n",
    "            proper AS (SELECT datetime_bin::date, COUNT(volume)\n",
    "            from ts\n",
    "            group by datetime_bin::date\n",
    "            having count(volume) = 56)\n",
    "            \n",
    "            select * from ts\n",
    "            where datetime_bin::date in (select datetime_bin from proper)'''\\\n",
    "    % (intersection, int_leg, direction, day)\n",
    "    df = pandasql.read_sql(pg.SQL(strSQL), con)\n",
    "    % R -i df\n",
    "    % R plot.ts(df$volume)"
   ]
  },
  {
   "cell_type": "code",
   "execution_count": 31,
   "metadata": {},
   "outputs": [
    {
     "data": {
      "image/png": "[encoded data removed]"
     },
     "metadata": {},
     "output_type": "display_data"
    }
   ],
   "source": [
    "grab(\"1\", \"7\", \"EB\", \"E\")\n"
   ]
  }
 ],
 "metadata": {
  "kernelspec": {
   "display_name": "Python 3",
   "language": "python",
   "name": "python3"
  },
  "language_info": {
   "codemirror_mode": {
    "name": "ipython",
    "version": 3
   },
   "file_extension": ".py",
   "mimetype": "text/x-python",
   "name": "python",
   "nbconvert_exporter": "python",
   "pygments_lexer": "ipython3",
   "version": "3.6.3"
  }
 },
 "nbformat": 4,
 "nbformat_minor": 2
}
